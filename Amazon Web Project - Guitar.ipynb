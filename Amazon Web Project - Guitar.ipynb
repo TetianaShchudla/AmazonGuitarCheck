{
 "cells": [
  {
   "cell_type": "code",
   "execution_count": 136,
   "id": "b6500aa0",
   "metadata": {},
   "outputs": [],
   "source": [
    "# Import libraries\n",
    "\n",
    "from bs4 import BeautifulSoup\n",
    "import requests\n",
    "import time\n",
    "import datetime\n",
    "import smtplib"
   ]
  },
  {
   "cell_type": "code",
   "execution_count": 137,
   "id": "325555f7",
   "metadata": {},
   "outputs": [
    {
     "name": "stdout",
     "output_type": "stream",
     "text": [
      "\n",
      "\n",
      "            Yamaha EZAG Self-Teaching Electronic Training Guitar\n",
      "           \n",
      "\n",
      "\n",
      "             $379.99\n",
      "            \n",
      "\n",
      "                6\n",
      "               \n"
     ]
    }
   ],
   "source": [
    "# Connect to Website and pull in data\n",
    "\n",
    "URL = 'https://www.amazon.com/Yamaha-Easy-Teaching-Guitar-EZ-AG/dp/B000MSOBXC/ref=sr_1_25?crid=WYDOP351PWOP&keywords=guitar&qid=1667683236&refinements=p_89%3AYAMAHA&rnid=2528832011&s=musical-instruments&sprefix=guitar+%2Caps%2C393&sr=1-25'\n",
    "\n",
    "headers = {\"User-Agent\": \"Mozilla/5.0 (Windows NT 10.0; Win64; x64) AppleWebKit/537.36 (KHTML, like Gecko) Chrome/107.0.0.0 Safari/537.36\", \"Accept-Encoding\":\"gzip, deflate\", \"Accept\":\"text/html,application/xhtml+xml,application/xml;q=0.9,*/*;q=0.8\", \"DNT\":\"1\",\"Connection\":\"close\", \"Upgrade-Insecure-Requests\":\"1\"}\n",
    "\n",
    "page = requests.get(URL, headers = headers)\n",
    "\n",
    "soup1 = BeautifulSoup(page.content, 'html.parser')\n",
    "\n",
    "soup2 = BeautifulSoup(soup1.prettify(), 'html.parser' )\n",
    "\n",
    "title = soup2.find(id = 'title').get_text()\n",
    "\n",
    "section = soup2.find(class_= \"a-section a-spacing-none aok-align-center\")\n",
    "\n",
    "price = section.find(class_= \"a-offscreen\").text\n",
    "\n",
    "section_string1 = soup2.find(class_ = \"a-spacing-small po-number_of_strings\")\n",
    "\n",
    "section_string2 = section_string1.find(class_ = \"a-span9\")\n",
    "\n",
    "number_of_strings = section_string2.find(class_ = \"a-size-base\").text\n",
    "\n",
    "print(title)\n",
    "print(price)\n",
    "print(number_of_strings)"
   ]
  },
  {
   "cell_type": "code",
   "execution_count": 138,
   "id": "f47834eb",
   "metadata": {},
   "outputs": [
    {
     "name": "stdout",
     "output_type": "stream",
     "text": [
      "Yamaha EZAG Self-Teaching Electronic Training Guitar\n",
      "379.99\n",
      "6\n"
     ]
    }
   ],
   "source": [
    "# Clean up the data a little bit\n",
    "\n",
    "price = price.strip()[1:]\n",
    "title = title.strip()\n",
    "number_of_strings = number_of_strings.strip()\n",
    "print(title)\n",
    "print(price)\n",
    "print(number_of_strings)"
   ]
  },
  {
   "cell_type": "code",
   "execution_count": 139,
   "id": "979df1d4",
   "metadata": {},
   "outputs": [
    {
     "name": "stdout",
     "output_type": "stream",
     "text": [
      "2022-11-06\n"
     ]
    }
   ],
   "source": [
    "# Create a Timestamp for your output to track when data was collected\n",
    "\n",
    "today = datetime.date.today()\n",
    "\n",
    "print(today)"
   ]
  },
  {
   "cell_type": "code",
   "execution_count": 140,
   "id": "792e861e",
   "metadata": {},
   "outputs": [],
   "source": [
    "# Create CSV and write headers and data into the file\n",
    "\n",
    "import csv\n",
    "\n",
    "header = ['Product', 'Price', 'Date', 'Number of Strings']\n",
    "data = [title, price, today, number_of_strings]\n",
    "\n",
    "with open ('AmazonGuitarPurchase.csv', 'w', newline = '', encoding = 'UTF8') as f: \n",
    "    writer = csv.writer(f)\n",
    "    writer.writerow(header)\n",
    "    writer.writerow(data)"
   ]
  },
  {
   "cell_type": "code",
   "execution_count": 141,
   "id": "1a09153a",
   "metadata": {},
   "outputs": [
    {
     "name": "stdout",
     "output_type": "stream",
     "text": [
      "                                             Product   Price        Date  \\\n",
      "0  Yamaha EZAG Self-Teaching Electronic Training ...  379.99  2022-11-06   \n",
      "\n",
      "   Number of Strings  \n",
      "0                  6  \n"
     ]
    }
   ],
   "source": [
    "import pandas as pd\n",
    "df = pd.read_csv(r'C:\\Users\\1\\AmazonGuitarPurchase.csv')\n",
    "\n",
    "print(df)"
   ]
  },
  {
   "cell_type": "code",
   "execution_count": 142,
   "id": "5407aaba",
   "metadata": {},
   "outputs": [],
   "source": [
    "# Appending data to csv\n",
    "\n",
    "with open ('AmazonGuitarPurchase.csv', 'a+', newline = '', encoding = 'UTF8') as f: \n",
    "    writer = csv.writer(f)\n",
    "    writer.writerow(data)"
   ]
  },
  {
   "cell_type": "code",
   "execution_count": null,
   "id": "a598eb1e",
   "metadata": {},
   "outputs": [],
   "source": [
    "#Combine all of the above code into one function\n",
    "\n",
    "def check_price():\n",
    "    URL = 'https://www.amazon.com/Yamaha-Easy-Teaching-Guitar-EZ-AG/dp/B000MSOBXC/ref=sr_1_25?crid=WYDOP351PWOP&keywords=guitar&qid=1667683236&refinements=p_89%3AYAMAHA&rnid=2528832011&s=musical-instruments&sprefix=guitar+%2Caps%2C393&sr=1-25'\n",
    "\n",
    "    headers = {\"User-Agent\": \"Mozilla/5.0 (Windows NT 10.0; Win64; x64) AppleWebKit/537.36 (KHTML, like Gecko) Chrome/107.0.0.0 Safari/537.36\", \"Accept-Encoding\":\"gzip, deflate\", \"Accept\":\"text/html,application/xhtml+xml,application/xml;q=0.9,*/*;q=0.8\", \"DNT\":\"1\",\"Connection\":\"close\", \"Upgrade-Insecure-Requests\":\"1\"}\n",
    "\n",
    "    page = requests.get(URL, headers = headers)\n",
    "\n",
    "    soup1 = BeautifulSoup(page.content, 'html.parser')\n",
    "\n",
    "    soup2 = BeautifulSoup(soup1.prettify(), 'html.parser' )\n",
    "\n",
    "    title = soup2.find(id = 'title').get_text()\n",
    "\n",
    "    section = soup2.find(class_= \"a-section a-spacing-none aok-align-center\")\n",
    "\n",
    "    price = section.find(class_= \"a-offscreen\").text\n",
    "\n",
    "    section_string1 = soup2.find(class_ = \"a-spacing-small po-number_of_strings\")\n",
    "\n",
    "    section_string2 = section_string1.find(class_ = \"a-span9\")\n",
    "\n",
    "    number_of_strings = section_string2.find(class_ = \"a-size-base\").text\n",
    "    \n",
    "    price = price.strip()[1:]\n",
    "    title = title.strip()\n",
    "    number_of_strings = number_of_strings.strip()\n",
    "    today = datetime.date.today()\n",
    "\n",
    "    import csv\n",
    "\n",
    "    header = ['Product', 'Price', 'Date', 'Number of Strings']\n",
    "    data = [title, price, today, number_of_strings]\n",
    "\n",
    "    with open ('AmazonGuitarPurchase.csv', 'a+', newline = '', encoding = 'UTF8') as f: \n",
    "        writer = csv.writer(f)\n",
    "        writer.writerow(data)"
   ]
  },
  {
   "cell_type": "code",
   "execution_count": null,
   "id": "6509f706",
   "metadata": {},
   "outputs": [],
   "source": [
    "# Runs check_price after a set time and inputs data into your CSV\n",
    "\n",
    "while(True):\n",
    "    check_price()\n",
    "    time.sleep(86400)"
   ]
  },
  {
   "cell_type": "code",
   "execution_count": 147,
   "id": "9d4774ed",
   "metadata": {},
   "outputs": [
    {
     "name": "stdout",
     "output_type": "stream",
     "text": [
      "                                             Product   Price        Date  \\\n",
      "0  Yamaha EZAG Self-Teaching Electronic Training ...  379.99  2022-11-06   \n",
      "1  Yamaha EZAG Self-Teaching Electronic Training ...  379.99  2022-11-06   \n",
      "2  Yamaha EZAG Self-Teaching Electronic Training ...  379.99  2022-11-06   \n",
      "3  Yamaha EZAG Self-Teaching Electronic Training ...  379.99  2022-11-06   \n",
      "4  Yamaha EZAG Self-Teaching Electronic Training ...  379.99  2022-11-06   \n",
      "5  Yamaha EZAG Self-Teaching Electronic Training ...  379.99  2022-11-06   \n",
      "\n",
      "   Number of Strings  \n",
      "0                  6  \n",
      "1                  6  \n",
      "2                  6  \n",
      "3                  6  \n",
      "4                  6  \n",
      "5                  6  \n"
     ]
    }
   ],
   "source": [
    "import pandas as pd\n",
    "df = pd.read_csv(r'C:\\Users\\1\\AmazonGuitarPurchase.csv')\n",
    "\n",
    "print(df)"
   ]
  },
  {
   "cell_type": "code",
   "execution_count": null,
   "id": "5917aad4",
   "metadata": {},
   "outputs": [],
   "source": [
    "# When a price hits below a certain level you can try to send an email\n",
    "def send_mail():\n",
    "    server = smtplib.SMTP_SSL('smtp.gmail.com',465)\n",
    "    server.ehlo()\n",
    "    #server.starttls()\n",
    "    server.ehlo()\n",
    "    server.login('XXXXXX@gmail.com','XXXXXXXXXXXXX')\n",
    "    \n",
    "    subject = \"The Guitar you want is below $350! Now is your chance to buy!\"\n",
    "    body = \"Tetiana, This is the moment we have been waiting for. Now is your chance to pick up the shirt of your dreams. Don't mess it up! Link here: https://www.amazon.com/Yamaha-Easy-Teaching-Guitar-EZ-AG/dp/B000MSOBXC/ref=sr_1_25?crid=WYDOP351PWOP&keywords=guitar&qid=1667683236&refinements=p_89%3AYAMAHA&rnid=2528832011&s=musical-instruments&sprefix=guitar+%2Caps%2C393&sr=1-25\"  \n",
    "    msg = f\"Subject: {subject}\\n\\n{body}\"\n",
    "    \n",
    "    server.sendmail(\n",
    "        'XXXXXXX@gmail.com',\n",
    "        msg\n",
    "     \n",
    "    )"
   ]
  },
  {
   "cell_type": "code",
   "execution_count": null,
   "id": "a6624ed3",
   "metadata": {},
   "outputs": [],
   "source": []
  }
 ],
 "metadata": {
  "kernelspec": {
   "display_name": "Python 3 (ipykernel)",
   "language": "python",
   "name": "python3"
  },
  "language_info": {
   "codemirror_mode": {
    "name": "ipython",
    "version": 3
   },
   "file_extension": ".py",
   "mimetype": "text/x-python",
   "name": "python",
   "nbconvert_exporter": "python",
   "pygments_lexer": "ipython3",
   "version": "3.9.12"
  }
 },
 "nbformat": 4,
 "nbformat_minor": 5
}
